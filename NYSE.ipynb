{
  "nbformat": 4,
  "nbformat_minor": 0,
  "metadata": {
    "colab": {
      "provenance": []
    },
    "kernelspec": {
      "name": "python3",
      "display_name": "Python 3"
    },
    "language_info": {
      "name": "python"
    }
  },
  "cells": [
    {
      "cell_type": "code",
      "execution_count": 10,
      "metadata": {
        "colab": {
          "base_uri": "https://localhost:8080/",
          "height": 86
        },
        "id": "_0iwH-YVAjEH",
        "outputId": "9b3af8f4-7a88-411b-c486-415b14a71f66"
      },
      "outputs": [
        {
          "output_type": "display_data",
          "data": {
            "text/plain": [
              "<IPython.core.display.HTML object>"
            ],
            "text/html": [
              "\n",
              "     <input type=\"file\" id=\"files-646e1051-3f5b-42ce-89fb-94d59720bdcc\" name=\"files[]\" multiple disabled\n",
              "        style=\"border:none\" />\n",
              "     <output id=\"result-646e1051-3f5b-42ce-89fb-94d59720bdcc\">\n",
              "      Upload widget is only available when the cell has been executed in the\n",
              "      current browser session. Please rerun this cell to enable.\n",
              "      </output>\n",
              "      <script>// Copyright 2017 Google LLC\n",
              "//\n",
              "// Licensed under the Apache License, Version 2.0 (the \"License\");\n",
              "// you may not use this file except in compliance with the License.\n",
              "// You may obtain a copy of the License at\n",
              "//\n",
              "//      http://www.apache.org/licenses/LICENSE-2.0\n",
              "//\n",
              "// Unless required by applicable law or agreed to in writing, software\n",
              "// distributed under the License is distributed on an \"AS IS\" BASIS,\n",
              "// WITHOUT WARRANTIES OR CONDITIONS OF ANY KIND, either express or implied.\n",
              "// See the License for the specific language governing permissions and\n",
              "// limitations under the License.\n",
              "\n",
              "/**\n",
              " * @fileoverview Helpers for google.colab Python module.\n",
              " */\n",
              "(function(scope) {\n",
              "function span(text, styleAttributes = {}) {\n",
              "  const element = document.createElement('span');\n",
              "  element.textContent = text;\n",
              "  for (const key of Object.keys(styleAttributes)) {\n",
              "    element.style[key] = styleAttributes[key];\n",
              "  }\n",
              "  return element;\n",
              "}\n",
              "\n",
              "// Max number of bytes which will be uploaded at a time.\n",
              "const MAX_PAYLOAD_SIZE = 100 * 1024;\n",
              "\n",
              "function _uploadFiles(inputId, outputId) {\n",
              "  const steps = uploadFilesStep(inputId, outputId);\n",
              "  const outputElement = document.getElementById(outputId);\n",
              "  // Cache steps on the outputElement to make it available for the next call\n",
              "  // to uploadFilesContinue from Python.\n",
              "  outputElement.steps = steps;\n",
              "\n",
              "  return _uploadFilesContinue(outputId);\n",
              "}\n",
              "\n",
              "// This is roughly an async generator (not supported in the browser yet),\n",
              "// where there are multiple asynchronous steps and the Python side is going\n",
              "// to poll for completion of each step.\n",
              "// This uses a Promise to block the python side on completion of each step,\n",
              "// then passes the result of the previous step as the input to the next step.\n",
              "function _uploadFilesContinue(outputId) {\n",
              "  const outputElement = document.getElementById(outputId);\n",
              "  const steps = outputElement.steps;\n",
              "\n",
              "  const next = steps.next(outputElement.lastPromiseValue);\n",
              "  return Promise.resolve(next.value.promise).then((value) => {\n",
              "    // Cache the last promise value to make it available to the next\n",
              "    // step of the generator.\n",
              "    outputElement.lastPromiseValue = value;\n",
              "    return next.value.response;\n",
              "  });\n",
              "}\n",
              "\n",
              "/**\n",
              " * Generator function which is called between each async step of the upload\n",
              " * process.\n",
              " * @param {string} inputId Element ID of the input file picker element.\n",
              " * @param {string} outputId Element ID of the output display.\n",
              " * @return {!Iterable<!Object>} Iterable of next steps.\n",
              " */\n",
              "function* uploadFilesStep(inputId, outputId) {\n",
              "  const inputElement = document.getElementById(inputId);\n",
              "  inputElement.disabled = false;\n",
              "\n",
              "  const outputElement = document.getElementById(outputId);\n",
              "  outputElement.innerHTML = '';\n",
              "\n",
              "  const pickedPromise = new Promise((resolve) => {\n",
              "    inputElement.addEventListener('change', (e) => {\n",
              "      resolve(e.target.files);\n",
              "    });\n",
              "  });\n",
              "\n",
              "  const cancel = document.createElement('button');\n",
              "  inputElement.parentElement.appendChild(cancel);\n",
              "  cancel.textContent = 'Cancel upload';\n",
              "  const cancelPromise = new Promise((resolve) => {\n",
              "    cancel.onclick = () => {\n",
              "      resolve(null);\n",
              "    };\n",
              "  });\n",
              "\n",
              "  // Wait for the user to pick the files.\n",
              "  const files = yield {\n",
              "    promise: Promise.race([pickedPromise, cancelPromise]),\n",
              "    response: {\n",
              "      action: 'starting',\n",
              "    }\n",
              "  };\n",
              "\n",
              "  cancel.remove();\n",
              "\n",
              "  // Disable the input element since further picks are not allowed.\n",
              "  inputElement.disabled = true;\n",
              "\n",
              "  if (!files) {\n",
              "    return {\n",
              "      response: {\n",
              "        action: 'complete',\n",
              "      }\n",
              "    };\n",
              "  }\n",
              "\n",
              "  for (const file of files) {\n",
              "    const li = document.createElement('li');\n",
              "    li.append(span(file.name, {fontWeight: 'bold'}));\n",
              "    li.append(span(\n",
              "        `(${file.type || 'n/a'}) - ${file.size} bytes, ` +\n",
              "        `last modified: ${\n",
              "            file.lastModifiedDate ? file.lastModifiedDate.toLocaleDateString() :\n",
              "                                    'n/a'} - `));\n",
              "    const percent = span('0% done');\n",
              "    li.appendChild(percent);\n",
              "\n",
              "    outputElement.appendChild(li);\n",
              "\n",
              "    const fileDataPromise = new Promise((resolve) => {\n",
              "      const reader = new FileReader();\n",
              "      reader.onload = (e) => {\n",
              "        resolve(e.target.result);\n",
              "      };\n",
              "      reader.readAsArrayBuffer(file);\n",
              "    });\n",
              "    // Wait for the data to be ready.\n",
              "    let fileData = yield {\n",
              "      promise: fileDataPromise,\n",
              "      response: {\n",
              "        action: 'continue',\n",
              "      }\n",
              "    };\n",
              "\n",
              "    // Use a chunked sending to avoid message size limits. See b/62115660.\n",
              "    let position = 0;\n",
              "    do {\n",
              "      const length = Math.min(fileData.byteLength - position, MAX_PAYLOAD_SIZE);\n",
              "      const chunk = new Uint8Array(fileData, position, length);\n",
              "      position += length;\n",
              "\n",
              "      const base64 = btoa(String.fromCharCode.apply(null, chunk));\n",
              "      yield {\n",
              "        response: {\n",
              "          action: 'append',\n",
              "          file: file.name,\n",
              "          data: base64,\n",
              "        },\n",
              "      };\n",
              "\n",
              "      let percentDone = fileData.byteLength === 0 ?\n",
              "          100 :\n",
              "          Math.round((position / fileData.byteLength) * 100);\n",
              "      percent.textContent = `${percentDone}% done`;\n",
              "\n",
              "    } while (position < fileData.byteLength);\n",
              "  }\n",
              "\n",
              "  // All done.\n",
              "  yield {\n",
              "    response: {\n",
              "      action: 'complete',\n",
              "    }\n",
              "  };\n",
              "}\n",
              "\n",
              "scope.google = scope.google || {};\n",
              "scope.google.colab = scope.google.colab || {};\n",
              "scope.google.colab._files = {\n",
              "  _uploadFiles,\n",
              "  _uploadFilesContinue,\n",
              "};\n",
              "})(self);\n",
              "</script> "
            ]
          },
          "metadata": {}
        },
        {
          "output_type": "stream",
          "name": "stdout",
          "text": [
            "Saving kaggle.json to kaggle (1).json\n"
          ]
        },
        {
          "output_type": "execute_result",
          "data": {
            "text/plain": [
              "{'kaggle (1).json': b'{\"username\":\"alexvalles\",\"key\":\"f365092177b638018746230aa4ec3ce0\"}'}"
            ]
          },
          "metadata": {},
          "execution_count": 10
        }
      ],
      "source": [
        "from google.colab import files\n",
        "files.upload()\n"
      ]
    },
    {
      "cell_type": "code",
      "source": [
        "!mkdir -p ~/.kaggle\n",
        "!cp kaggle.json ~/.kaggle/\n",
        "!chmod 600 ~/.kaggle/kaggle.json\n"
      ],
      "metadata": {
        "id": "0L0RxBCPBKzZ"
      },
      "execution_count": 11,
      "outputs": []
    },
    {
      "cell_type": "code",
      "source": [
        "!kaggle datasets download -d dgawlik/nyse\n",
        "\n"
      ],
      "metadata": {
        "colab": {
          "base_uri": "https://localhost:8080/"
        },
        "id": "z5IwcDx4BR21",
        "outputId": "cb1e8f97-91b4-4cea-fd28-493da30c5fab"
      },
      "execution_count": 13,
      "outputs": [
        {
          "output_type": "stream",
          "name": "stdout",
          "text": [
            "Dataset URL: https://www.kaggle.com/datasets/dgawlik/nyse\n",
            "License(s): CC0-1.0\n",
            "Downloading nyse.zip to /content\n",
            " 33% 10.0M/30.7M [00:00<00:00, 101MB/s]\n",
            "100% 30.7M/30.7M [00:00<00:00, 158MB/s]\n"
          ]
        }
      ]
    },
    {
      "cell_type": "code",
      "source": [
        "import zipfile\n",
        "import os\n",
        "\n",
        "# Descomprimir el archivo descargado\n",
        "with zipfile.ZipFile('nyse.zip', 'r') as zip_ref:\n",
        "    zip_ref.extractall()\n",
        "\n",
        "# Listar los archivos extraídos para verificar\n",
        "os.listdir()\n"
      ],
      "metadata": {
        "colab": {
          "base_uri": "https://localhost:8080/"
        },
        "id": "wqRDpXVoBZXH",
        "outputId": "16503a62-1074-4bbc-96a2-c0b10743790a"
      },
      "execution_count": 14,
      "outputs": [
        {
          "output_type": "execute_result",
          "data": {
            "text/plain": [
              "['.config',\n",
              " 'securities.csv',\n",
              " 'prices.csv',\n",
              " 'nyse.zip',\n",
              " 'fundamentals.csv',\n",
              " 'Invistico_Airline.csv',\n",
              " 'prices-split-adjusted.csv',\n",
              " 'airlines-customer-satisfaction.zip',\n",
              " 'kaggle.json',\n",
              " 'kaggle (1).json',\n",
              " 'sample_data']"
            ]
          },
          "metadata": {},
          "execution_count": 14
        }
      ]
    },
    {
      "cell_type": "code",
      "source": [
        "import pandas as pd\n"
      ],
      "metadata": {
        "id": "0iJqch4JBvTd"
      },
      "execution_count": 15,
      "outputs": []
    },
    {
      "cell_type": "code",
      "source": [
        "# Load securities.csv\n",
        "df_securities = pd.read_csv('securities.csv')\n",
        "print(\"Securities DataFrame:\")\n",
        "print(df_securities.head())\n",
        "\n",
        "# Load prices.csv\n",
        "df_prices = pd.read_csv('prices.csv')\n",
        "print(\"\\nPrices DataFrame:\")\n",
        "print(df_prices.head())\n",
        "\n",
        "# Load fundamentals.csv\n",
        "df_fundamentals = pd.read_csv('fundamentals.csv')\n",
        "print(\"\\nFundamentals DataFrame:\")\n",
        "print(df_fundamentals.head())\n",
        "\n",
        "# Load prices-split-adjusted.csv\n",
        "df_prices_split_adjusted = pd.read_csv('prices-split-adjusted.csv')\n",
        "print(\"\\nPrices Split Adjusted DataFrame:\")\n",
        "print(df_prices_split_adjusted.head())\n",
        "\n"
      ],
      "metadata": {
        "colab": {
          "base_uri": "https://localhost:8080/"
        },
        "id": "YPJ6Z4MlBczj",
        "outputId": "db98e29e-e49b-4587-8184-3af5e5deddd2"
      },
      "execution_count": 16,
      "outputs": [
        {
          "output_type": "stream",
          "name": "stdout",
          "text": [
            "Securities DataFrame:\n",
            "  Ticker symbol             Security SEC filings             GICS Sector  \\\n",
            "0           MMM           3M Company     reports             Industrials   \n",
            "1           ABT  Abbott Laboratories     reports             Health Care   \n",
            "2          ABBV               AbbVie     reports             Health Care   \n",
            "3           ACN        Accenture plc     reports  Information Technology   \n",
            "4          ATVI  Activision Blizzard     reports  Information Technology   \n",
            "\n",
            "                GICS Sub Industry   Address of Headquarters Date first added  \\\n",
            "0        Industrial Conglomerates       St. Paul, Minnesota              NaN   \n",
            "1           Health Care Equipment   North Chicago, Illinois       1964-03-31   \n",
            "2                 Pharmaceuticals   North Chicago, Illinois       2012-12-31   \n",
            "3  IT Consulting & Other Services           Dublin, Ireland       2011-07-06   \n",
            "4     Home Entertainment Software  Santa Monica, California       2015-08-31   \n",
            "\n",
            "       CIK  \n",
            "0    66740  \n",
            "1     1800  \n",
            "2  1551152  \n",
            "3  1467373  \n",
            "4   718877  \n",
            "\n",
            "Prices DataFrame:\n",
            "                  date symbol        open       close         low        high  \\\n",
            "0  2016-01-05 00:00:00   WLTW  123.430000  125.839996  122.309998  126.250000   \n",
            "1  2016-01-06 00:00:00   WLTW  125.239998  119.980003  119.940002  125.540001   \n",
            "2  2016-01-07 00:00:00   WLTW  116.379997  114.949997  114.930000  119.739998   \n",
            "3  2016-01-08 00:00:00   WLTW  115.480003  116.620003  113.500000  117.440002   \n",
            "4  2016-01-11 00:00:00   WLTW  117.010002  114.970001  114.089996  117.330002   \n",
            "\n",
            "      volume  \n",
            "0  2163600.0  \n",
            "1  2386400.0  \n",
            "2  2489500.0  \n",
            "3  2006300.0  \n",
            "4  1408600.0  \n",
            "\n",
            "Fundamentals DataFrame:\n",
            "   Unnamed: 0 Ticker Symbol Period Ending  Accounts Payable  \\\n",
            "0           0           AAL    2012-12-31      3.068000e+09   \n",
            "1           1           AAL    2013-12-31      4.975000e+09   \n",
            "2           2           AAL    2014-12-31      4.668000e+09   \n",
            "3           3           AAL    2015-12-31      5.102000e+09   \n",
            "4           4           AAP    2012-12-29      2.409453e+09   \n",
            "\n",
            "   Accounts Receivable  Add'l income/expense items  After Tax ROE  \\\n",
            "0         -222000000.0               -1.961000e+09           23.0   \n",
            "1          -93000000.0               -2.723000e+09           67.0   \n",
            "2         -160000000.0               -1.500000e+08          143.0   \n",
            "3          352000000.0               -7.080000e+08          135.0   \n",
            "4          -89482000.0                6.000000e+05           32.0   \n",
            "\n",
            "   Capital Expenditures  Capital Surplus  Cash Ratio  ...  \\\n",
            "0         -1.888000e+09     4.695000e+09        53.0  ...   \n",
            "1         -3.114000e+09     1.059200e+10        75.0  ...   \n",
            "2         -5.311000e+09     1.513500e+10        60.0  ...   \n",
            "3         -6.151000e+09     1.159100e+10        51.0  ...   \n",
            "4         -2.711820e+08     5.202150e+08        23.0  ...   \n",
            "\n",
            "   Total Current Assets  Total Current Liabilities  Total Equity  \\\n",
            "0          7.072000e+09               9.011000e+09 -7.987000e+09   \n",
            "1          1.432300e+10               1.380600e+10 -2.731000e+09   \n",
            "2          1.175000e+10               1.340400e+10  2.021000e+09   \n",
            "3          9.985000e+09               1.360500e+10  5.635000e+09   \n",
            "4          3.184200e+09               2.559638e+09  1.210694e+09   \n",
            "\n",
            "   Total Liabilities  Total Liabilities & Equity  Total Revenue  \\\n",
            "0       2.489100e+10                1.690400e+10   2.485500e+10   \n",
            "1       4.500900e+10                4.227800e+10   2.674300e+10   \n",
            "2       4.120400e+10                4.322500e+10   4.265000e+10   \n",
            "3       4.278000e+10                4.841500e+10   4.099000e+10   \n",
            "4       3.403120e+09                4.613814e+09   6.205003e+09   \n",
            "\n",
            "   Treasury Stock  For Year  Earnings Per Share  Estimated Shares Outstanding  \n",
            "0    -367000000.0    2012.0               -5.60                  3.350000e+08  \n",
            "1             0.0    2013.0              -11.25                  1.630222e+08  \n",
            "2             0.0    2014.0                4.02                  7.169154e+08  \n",
            "3             0.0    2015.0               11.39                  6.681299e+08  \n",
            "4     -27095000.0    2012.0                5.29                  7.328355e+07  \n",
            "\n",
            "[5 rows x 79 columns]\n",
            "\n",
            "Prices Split Adjusted DataFrame:\n",
            "         date symbol        open       close         low        high  \\\n",
            "0  2016-01-05   WLTW  123.430000  125.839996  122.309998  126.250000   \n",
            "1  2016-01-06   WLTW  125.239998  119.980003  119.940002  125.540001   \n",
            "2  2016-01-07   WLTW  116.379997  114.949997  114.930000  119.739998   \n",
            "3  2016-01-08   WLTW  115.480003  116.620003  113.500000  117.440002   \n",
            "4  2016-01-11   WLTW  117.010002  114.970001  114.089996  117.330002   \n",
            "\n",
            "      volume  \n",
            "0  2163600.0  \n",
            "1  2386400.0  \n",
            "2  2489500.0  \n",
            "3  2006300.0  \n",
            "4  1408600.0  \n"
          ]
        }
      ]
    }
  ]
}